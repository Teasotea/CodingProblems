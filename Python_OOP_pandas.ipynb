{
  "nbformat": 4,
  "nbformat_minor": 0,
  "metadata": {
    "colab": {
      "name": "offerFit.ipynb",
      "provenance": [],
      "authorship_tag": "ABX9TyMFFnGubqavxpKfcdUS12VL",
      "include_colab_link": true
    },
    "kernelspec": {
      "name": "python3",
      "display_name": "Python 3"
    },
    "language_info": {
      "name": "python"
    }
  },
  "cells": [
    {
      "cell_type": "markdown",
      "metadata": {
        "id": "view-in-github",
        "colab_type": "text"
      },
      "source": [
        "<a href=\"https://colab.research.google.com/github/Teasotea/CodingProblems/blob/main/Python_OOP_pandas.ipynb\" target=\"_parent\"><img src=\"https://colab.research.google.com/assets/colab-badge.svg\" alt=\"Open In Colab\"/></a>"
      ]
    },
    {
      "cell_type": "code",
      "execution_count": 1,
      "metadata": {
        "id": "W9rFzSiixM6J"
      },
      "outputs": [],
      "source": [
        "\"\"\"\n",
        "Instructions:\n",
        "\n",
        "Fill in the methods of the DataCleaner class to produce the same printed results\n",
        "as in the comments below. Good luck, and have fun!\n",
        "\"\"\"\n",
        "from __future__ import annotations\n",
        "\n",
        "import numpy as np\n",
        "import pandas as pd\n",
        "\n",
        "from typing import Dict, Any, List"
      ]
    },
    {
      "cell_type": "code",
      "source": [
        "class DataCleaner:\n",
        "    \"\"\"\n",
        "    Transform a pandas df while keeping track of the history of transformations to\n",
        "    allow reverting back to earlier state.\n",
        "    \"\"\"\n",
        "    def __init__(self, df: pd.DataFrame):\n",
        "        self.current = df\n",
        "        self.history = [('Initial df', self.current.copy())]\n",
        "\n",
        "    def adjust_dtype(self, types: Dict[str, Any]) -> None:\n",
        "        self.current = self.current.astype(types)\n",
        "        self.history.append(('Adjusted dtypes using {types}'.format(types=types), self.current.copy()))\n",
        "\n",
        "    def impute_missing(self, columns: List[str]) -> None:\n",
        "        self.current[columns] = self.current[columns].apply(lambda x: x.fillna(x.mean()), axis = 0)\n",
        "        self.history.append(('Imputed missing in {cols}'.format(cols=columns), self.current.copy()))\n",
        "      \n",
        "    def revert(self, steps_back: int = 1) -> None:\n",
        "        if steps_back < len(self.history):\n",
        "          self.current = self.history[-steps_back+1][1]\n",
        "          self.history = self.history[:-steps_back+1]\n",
        "\n",
        "    def save(self, path: str) -> None:\n",
        "        self.current.to_csv(path, index=False)\n",
        "\n",
        "    @staticmethod\n",
        "    def load(path: str) -> DataCleaner:\n",
        "        return DataCleaner(pd.read_csv(path))\n"
      ],
      "metadata": {
        "id": "7sh6fB6CxWp7"
      },
      "execution_count": 135,
      "outputs": []
    },
    {
      "cell_type": "code",
      "source": [
        "transactions = pd.DataFrame(\n",
        "    {\n",
        "        \"customer_id\": [10, 10, 13, 10, 11, 11, 10],\n",
        "        \"amount\": [1.00, 1.31, 20.5, 0.5, 0.2, 0.2, np.nan],\n",
        "        \"timestamp\": [\n",
        "            \"2020-10-08 11:32:01\",\n",
        "            \"2020-10-08 13:45:00\",\n",
        "            \"2020-10-07 05:10:30\",\n",
        "            \"2020-10-08 12:30:00\",\n",
        "            \"2020-10-07 01:29:33\",\n",
        "            \"2020-10-08 13:45:00\",\n",
        "            \"2020-10-09 02:05:21\",\n",
        "        ]\n",
        "    }\n",
        ")"
      ],
      "metadata": {
        "id": "XIxYPmRjxSag"
      },
      "execution_count": 136,
      "outputs": []
    },
    {
      "cell_type": "code",
      "source": [
        "\n",
        "transactions_dc = DataCleaner(transactions)\n",
        "\n",
        "print(f\"Current dataframe:\\n{transactions_dc.current}\")"
      ],
      "metadata": {
        "colab": {
          "base_uri": "https://localhost:8080/"
        },
        "id": "jM_RsbDgxeKU",
        "outputId": "562e2abd-0e82-40a1-bca1-c080445dbe44"
      },
      "execution_count": 137,
      "outputs": [
        {
          "output_type": "stream",
          "name": "stdout",
          "text": [
            "Current dataframe:\n",
            "   customer_id  amount            timestamp\n",
            "0           10    1.00  2020-10-08 11:32:01\n",
            "1           10    1.31  2020-10-08 13:45:00\n",
            "2           13   20.50  2020-10-07 05:10:30\n",
            "3           10    0.50  2020-10-08 12:30:00\n",
            "4           11    0.20  2020-10-07 01:29:33\n",
            "5           11    0.20  2020-10-08 13:45:00\n",
            "6           10     NaN  2020-10-09 02:05:21\n"
          ]
        }
      ]
    },
    {
      "cell_type": "code",
      "source": [
        "print(f\"Initial dtypes:\\n{transactions_dc.current.dtypes}\")\n",
        "\n",
        "# Initial dtypes:\n",
        "# customer_id      int64\n",
        "# amount         float64\n",
        "# timestamp       object\n",
        "# dtype: object\n"
      ],
      "metadata": {
        "colab": {
          "base_uri": "https://localhost:8080/"
        },
        "id": "5wMuKTFRxjUY",
        "outputId": "7f41d498-c594-4ee9-cb80-ab51124ef133"
      },
      "execution_count": 138,
      "outputs": [
        {
          "output_type": "stream",
          "name": "stdout",
          "text": [
            "Initial dtypes:\n",
            "customer_id      int64\n",
            "amount         float64\n",
            "timestamp       object\n",
            "dtype: object\n"
          ]
        }
      ]
    },
    {
      "cell_type": "code",
      "source": [
        "transactions_dc.adjust_dtype({\"timestamp\": np.datetime64})\n",
        "\n",
        "print(f\"Changed dtypes to:\\n{transactions_dc.current.dtypes}\")\n",
        "\n",
        "# Changed dtypes to:\n",
        "# customer_id             int64\n",
        "# amount                float64\n",
        "# timestamp      datetime64[ns]"
      ],
      "metadata": {
        "id": "8qDXnE7ZxnH0",
        "colab": {
          "base_uri": "https://localhost:8080/"
        },
        "outputId": "725f8dc9-cc55-418e-e2f0-2f4fd0d58006"
      },
      "execution_count": 139,
      "outputs": [
        {
          "output_type": "stream",
          "name": "stdout",
          "text": [
            "Changed dtypes to:\n",
            "customer_id             int64\n",
            "amount                float64\n",
            "timestamp      datetime64[ns]\n",
            "dtype: object\n"
          ]
        }
      ]
    },
    {
      "cell_type": "code",
      "source": [
        "transactions_dc.impute_missing(columns=[\"amount\"])\n",
        "\n",
        "print(f\"Imputed missing as mean:\\n{transactions_dc.current}\")\n",
        "\n",
        "# Imputed missing as mean:\n",
        "#    customer_id     amount           timestamp\n",
        "# 0           10   1.000000 2020-10-08 11:32:01\n",
        "# 1           10   1.310000 2020-10-08 13:45:00\n",
        "# 2           13  20.500000 2020-10-07 05:10:30\n",
        "# 3           10   0.500000 2020-10-08 12:30:00\n",
        "# 4           11   0.200000 2020-10-07 01:29:33\n",
        "# 5           11   0.200000 2020-10-08 13:45:00\n",
        "# 6           10   3.951667 2020-10-09 02:05:21\n"
      ],
      "metadata": {
        "id": "iWQP9jFgxpx6",
        "colab": {
          "base_uri": "https://localhost:8080/"
        },
        "outputId": "0be275c9-3d79-4c3e-c0c4-bfac4ed17edc"
      },
      "execution_count": 140,
      "outputs": [
        {
          "output_type": "stream",
          "name": "stdout",
          "text": [
            "Imputed missing as mean:\n",
            "   customer_id     amount           timestamp\n",
            "0           10   1.000000 2020-10-08 11:32:01\n",
            "1           10   1.310000 2020-10-08 13:45:00\n",
            "2           13  20.500000 2020-10-07 05:10:30\n",
            "3           10   0.500000 2020-10-08 12:30:00\n",
            "4           11   0.200000 2020-10-07 01:29:33\n",
            "5           11   0.200000 2020-10-08 13:45:00\n",
            "6           10   3.951667 2020-10-09 02:05:21\n"
          ]
        }
      ]
    },
    {
      "cell_type": "code",
      "source": [
        "print(f\"History of changes:\\n{transactions_dc.history}\")\n",
        "\n",
        "# ** Any coherent structure with history of changes **\n",
        "# E.g., here's one possibility\n",
        "\n",
        "# History of changes:\n",
        "# [('Initial df',    customer_id  amount            timestamp\n",
        "# 0           10    1.00  2020-10-08 11:32:01\n",
        "# 1           10    1.31  2020-10-08 13:45:00\n",
        "# 2           13   20.50  2020-10-07 05:10:30\n",
        "# 3           10    0.50  2020-10-08 12:30:00\n",
        "# 4           11    0.20  2020-10-07 01:29:33\n",
        "# 5           11    0.20  2020-10-08 13:45:00\n",
        "# 6           10     NaN  2020-10-09 02:05:21), (\"Adjusted dtypes using {'timestamp': <class 'numpy.datetime64'>}\",    customer_id  amount           timestamp\n",
        "# 0           10    1.00 2020-10-08 11:32:01\n",
        "# 1           10    1.31 2020-10-08 13:45:00\n",
        "# 2           13   20.50 2020-10-07 05:10:30\n",
        "# 3           10    0.50 2020-10-08 12:30:00\n",
        "# 4           11    0.20 2020-10-07 01:29:33\n",
        "# 5           11    0.20 2020-10-08 13:45:00\n",
        "# 6           10     NaN 2020-10-09 02:05:21), (\"Imputed missing in ['amount']\",    customer_id     amount           timestamp\n",
        "# 0           10   1.000000 2020-10-08 11:32:01\n",
        "# 1           10   1.310000 2020-10-08 13:45:00\n",
        "# 2           13  20.500000 2020-10-07 05:10:30\n",
        "# 3           10   0.500000 2020-10-08 12:30:00\n",
        "# 4           11   0.200000 2020-10-07 01:29:33\n",
        "# 5           11   0.200000 2020-10-08 13:45:00\n",
        "# 6           10   3.951667 2020-10-09 02:05:21)]\n"
      ],
      "metadata": {
        "id": "iwpKDfGhxulb",
        "colab": {
          "base_uri": "https://localhost:8080/"
        },
        "outputId": "630ee2c2-ba9a-436c-ee63-682e96b6ccbd"
      },
      "execution_count": 141,
      "outputs": [
        {
          "output_type": "stream",
          "name": "stdout",
          "text": [
            "History of changes:\n",
            "[('Initial df',    customer_id  amount            timestamp\n",
            "0           10    1.00  2020-10-08 11:32:01\n",
            "1           10    1.31  2020-10-08 13:45:00\n",
            "2           13   20.50  2020-10-07 05:10:30\n",
            "3           10    0.50  2020-10-08 12:30:00\n",
            "4           11    0.20  2020-10-07 01:29:33\n",
            "5           11    0.20  2020-10-08 13:45:00\n",
            "6           10     NaN  2020-10-09 02:05:21), (\"Adjusted dtypes using {'timestamp': <class 'numpy.datetime64'>}\",    customer_id  amount           timestamp\n",
            "0           10    1.00 2020-10-08 11:32:01\n",
            "1           10    1.31 2020-10-08 13:45:00\n",
            "2           13   20.50 2020-10-07 05:10:30\n",
            "3           10    0.50 2020-10-08 12:30:00\n",
            "4           11    0.20 2020-10-07 01:29:33\n",
            "5           11    0.20 2020-10-08 13:45:00\n",
            "6           10     NaN 2020-10-09 02:05:21), (\"Imputed missing in ['amount']\",    customer_id     amount           timestamp\n",
            "0           10   1.000000 2020-10-08 11:32:01\n",
            "1           10   1.310000 2020-10-08 13:45:00\n",
            "2           13  20.500000 2020-10-07 05:10:30\n",
            "3           10   0.500000 2020-10-08 12:30:00\n",
            "4           11   0.200000 2020-10-07 01:29:33\n",
            "5           11   0.200000 2020-10-08 13:45:00\n",
            "6           10   3.951667 2020-10-09 02:05:21)]\n"
          ]
        }
      ]
    },
    {
      "cell_type": "code",
      "source": [
        "transactions_dc.save(\"transactions\")\n",
        "loaded_dc = DataCleaner.load(\"transactions\")\n",
        "print(f\"Loaded DataCleaner current df:\\n{loaded_dc.current}\")\n",
        "\n",
        "# Loaded DataCleaner current df:\n",
        "#    customer_id     amount           timestamp\n",
        "# 0           10   1.000000 2020-10-08 11:32:01\n",
        "# 1           10   1.310000 2020-10-08 13:45:00\n",
        "# 2           13  20.500000 2020-10-07 05:10:30\n",
        "# 3           10   0.500000 2020-10-08 12:30:00\n",
        "# 4           11   0.200000 2020-10-07 01:29:33\n",
        "# 5           11   0.200000 2020-10-08 13:45:00\n",
        "# 6           10   3.951667 2020-10-09 02:05:21\n",
        "\n"
      ],
      "metadata": {
        "id": "bo3tZOdIxyzJ",
        "colab": {
          "base_uri": "https://localhost:8080/"
        },
        "outputId": "b9d440ec-1178-4802-b123-b9c34476272e"
      },
      "execution_count": 142,
      "outputs": [
        {
          "output_type": "stream",
          "name": "stdout",
          "text": [
            "Loaded DataCleaner current df:\n",
            "   customer_id     amount            timestamp\n",
            "0           10   1.000000  2020-10-08 11:32:01\n",
            "1           10   1.310000  2020-10-08 13:45:00\n",
            "2           13  20.500000  2020-10-07 05:10:30\n",
            "3           10   0.500000  2020-10-08 12:30:00\n",
            "4           11   0.200000  2020-10-07 01:29:33\n",
            "5           11   0.200000  2020-10-08 13:45:00\n",
            "6           10   3.951667  2020-10-09 02:05:21\n"
          ]
        }
      ]
    },
    {
      "cell_type": "code",
      "source": [
        "transactions_dc.revert()\n",
        "print(f\"Reverting missing value imputation:\\n{transactions_dc.current}\")\n",
        "\n",
        "# Reverting missing value imputation:\n",
        "#    customer_id  amount           timestamp\n",
        "# 0           10    1.00 2020-10-08 11:32:01\n",
        "# 1           10    1.31 2020-10-08 13:45:00\n",
        "# 2           13   20.50 2020-10-07 05:10:30\n",
        "# 3           10    0.50 2020-10-08 12:30:00\n",
        "# 4           11    0.20 2020-10-07 01:29:33\n",
        "# 5           11    0.20 2020-10-08 13:45:00\n",
        "# 6           10     NaN 2020-10-09 02:05:21"
      ],
      "metadata": {
        "id": "CViGBxWUx3AS",
        "colab": {
          "base_uri": "https://localhost:8080/"
        },
        "outputId": "9854d2b7-77bf-4d20-e626-77e8a43174e3"
      },
      "execution_count": 147,
      "outputs": [
        {
          "output_type": "stream",
          "name": "stdout",
          "text": [
            "Reverting missing value imputation:\n",
            "   customer_id  amount            timestamp\n",
            "0           10    1.00  2020-10-08 11:32:01\n",
            "1           10    1.31  2020-10-08 13:45:00\n",
            "2           13   20.50  2020-10-07 05:10:30\n",
            "3           10    0.50  2020-10-08 12:30:00\n",
            "4           11    0.20  2020-10-07 01:29:33\n",
            "5           11    0.20  2020-10-08 13:45:00\n",
            "6           10     NaN  2020-10-09 02:05:21\n"
          ]
        }
      ]
    },
    {
      "cell_type": "code",
      "source": [
        ""
      ],
      "metadata": {
        "id": "-FIUvBcfxp7Z"
      },
      "execution_count": null,
      "outputs": []
    }
  ]
}